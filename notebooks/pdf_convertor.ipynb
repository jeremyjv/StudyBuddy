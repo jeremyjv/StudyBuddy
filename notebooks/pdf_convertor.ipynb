{
 "cells": [
  {
   "cell_type": "code",
   "execution_count": 3,
   "metadata": {},
   "outputs": [
    {
     "name": "stdout",
     "output_type": "stream",
     "text": [
      "Defaulting to user installation because normal site-packages is not writeable\n",
      "Requirement already satisfied: PyMuPDF in /Users/vxhan/Library/Python/3.9/lib/python/site-packages (1.24.7)\n",
      "Requirement already satisfied: PyMuPDFb==1.24.6 in /Users/vxhan/Library/Python/3.9/lib/python/site-packages (from PyMuPDF) (1.24.6)\n",
      "\u001b[33mWARNING: You are using pip version 21.2.4; however, version 24.1.2 is available.\n",
      "You should consider upgrading via the '/Library/Developer/CommandLineTools/usr/bin/python3 -m pip install --upgrade pip' command.\u001b[0m\n"
     ]
    }
   ],
   "source": [
    "! pip3 install PyMuPDF"
   ]
  },
  {
   "cell_type": "code",
   "execution_count": 4,
   "metadata": {},
   "outputs": [],
   "source": [
    "import fitz  # PyMuPDF\n",
    "import requests\n",
    "import os, json\n",
    "pdf_url = \"https://people.eecs.berkeley.edu/~vazirani/algorithms/chap0.pdf\"\n",
    "pdf_filename = \"chap0.pdf\"\n",
    "response = requests.get(pdf_url)\n",
    "if response.status_code == 200:\n",
    "    with open(pdf_filename, 'wb') as pdf_file:\n",
    "        pdf_file.write(response.content)\n",
    "else:\n",
    "    print(\"Failed to download the PDF file\")\n",
    "    exit()\n",
    "\n",
    "def extract_text_from_pdf(pdf_path):\n",
    "    text = \"\"\n",
    "    with fitz.open(pdf_path) as doc:\n",
    "        for page in doc:\n",
    "            text += page.get_text()\n",
    "    return text\n",
    "\n",
    "pdf_text = extract_text_from_pdf(pdf_filename)"
   ]
  },
  {
   "cell_type": "code",
   "execution_count": 5,
   "metadata": {},
   "outputs": [],
   "source": [
    "pdf_json = {\n",
    "    \"content\": pdf_text\n",
    "}\n"
   ]
  },
  {
   "cell_type": "code",
   "execution_count": 6,
   "metadata": {},
   "outputs": [],
   "source": [
    "json_filename = \"chap0.json\"\n",
    "with open(json_filename, 'w') as json_file:\n",
    "    json.dump(pdf_json, json_file, indent=4)\n"
   ]
  },
  {
   "cell_type": "code",
   "execution_count": 7,
   "metadata": {},
   "outputs": [
    {
     "name": "stdout",
     "output_type": "stream",
     "text": [
      "PDF content has been converted to JSON and saved to chap0.json\n"
     ]
    }
   ],
   "source": [
    "os.remove(pdf_filename)\n",
    "\n",
    "print(f\"PDF content has been converted to JSON and saved to {json_filename}\")\n"
   ]
  },
  {
   "cell_type": "code",
   "execution_count": 52,
   "metadata": {},
   "outputs": [],
   "source": [
    "with open('chap0.json', 'r') as file:\n",
    "    data = json.load(file)"
   ]
  },
  {
   "cell_type": "code",
   "execution_count": 53,
   "metadata": {},
   "outputs": [],
   "source": [
    "def split_text(text, max_length=21000):\n",
    "    sentences = text.split('.')\n",
    "    chunks = []\n",
    "    chunk = \"\"\n",
    "    for sentence in sentences:\n",
    "        if len(chunk) + len(sentence) <= max_length:\n",
    "            chunk += sentence + '.'\n",
    "        else:\n",
    "            chunks.append(chunk)\n",
    "            chunk = sentence + '.'\n",
    "    chunks.append(chunk)  # add the last chunk\n",
    "    return chunks\n",
    "\n",
    "chunks = split_text(data['content'])"
   ]
  },
  {
   "cell_type": "code",
   "execution_count": 54,
   "metadata": {},
   "outputs": [],
   "source": [
    "import os\n",
    "import json\n",
    "\n",
    "from octoai.client import OctoAI\n",
    "from octoai.text_gen import ChatMessage\n",
    "\n",
    "\n",
    "# Get the OctoAI API token from the environment\n",
    "OCTOAI_API_TOKEN = os.getenv(\"OCTOAI_API_TOKEN\")\n",
    "if not OCTOAI_API_TOKEN:\n",
    "    raise ValueError(\"No OCTOAI_API_TOKEN found in environment variables\")\n",
    "\n",
    "# Initialize OctoAI client\n",
    "client = OctoAI(api_key=OCTOAI_API_TOKEN)\n",
    "\n",
    "\n",
    "def get_answer_from_chunk(chunk,question):\n",
    "    completion = client.text_gen.create_chat_completion(\n",
    "    model=\"qwen2-7b-instruct\",\n",
    "    messages=[\n",
    "        ChatMessage(\n",
    "            role=\"system\",\n",
    "            content=\"You are a professor understand the content of the PDF and explain it to a student.\",\n",
    "        ),\n",
    "        ChatMessage(role=\"system\", content=question),\n",
    "        ChatMessage(role=\"user\", content= chunk),\n",
    "    ],\n",
    "    max_tokens=512,\n",
    "    )\n",
    "\n",
    "    return json.dumps(completion.dict(), indent=2)\n",
    "\n",
    "question = \"What is the content of the PDF?\"\n",
    "\n"
   ]
  },
  {
   "cell_type": "code",
   "execution_count": 64,
   "metadata": {},
   "outputs": [
    {
     "name": "stdout",
     "output_type": "stream",
     "text": [
      "0\n",
      "------------------------------------------------------------------------------------------------\n"
     ]
    }
   ],
   "source": [
    "i = 0\n",
    "data = \"\"\n",
    "for chunk in chunks:\n",
    "    answer = get_answer_from_chunk(chunk, question)\n",
    "    print(i)\n",
    "    i += 1\n",
    "    print(\"------------------------------------------------------------------------------------------------\")\n",
    "    data += answer\n",
    "    \n",
    "    \n",
    "\n"
   ]
  },
  {
   "cell_type": "code",
   "execution_count": 68,
   "metadata": {},
   "outputs": [
    {
     "name": "stdout",
     "output_type": "stream",
     "text": [
      "{\n",
      "  \"choices\": [\n",
      "    {\n",
      "      \"finish_reason\": \"length\",\n",
      "      \"index\": 0,\n",
      "      \"logprobs\": null,\n",
      "      \"message\": {\n",
      "        \"content\": \"This PDF chapter primarily focuses on elucidating the importance of efficient algorithms in the context of the incredible proliferation and evolution of modern communication and technology. In particular, it outlines the pivotal role of algorithms through examples such as Gutenberg's printing press and Leonardo Fibonacci's sequence.\\n\\n### Fibonacci Numbers and Algorithms\\n\\nThe Fibonacci sequence is introduced as an example of a series of numbers where each number is the sum of the two preceding ones (0, 1, 1, 2, 3, 5, 8, 13, 21, 34, etc.). It's noted that these numbers are crucial in various fields due to their widespread attention and application.\\n\\n#### Recursive Algorithm (fib1)\\n\\nThis sequence can be simply generated using a recursive algorithm that mirrors its mathematical definition, utilizing a pseudocode-like notation:\\n\\n```plaintext\\nfib1(n)\\nif n = 0:\\nreturn 0\\nif n = 1:\\nreturn 1\\nreturn fib1(n \\u22121) + fib1(n \\u22122)\\n```\\n\\nThis recursive method is straightforward but incredibly inefficient due to its exponential time complexity, which results in the time required to compute the nth Fibonacci number growing exponentially. For example, calculating `fib1(200)` would take about 292 seconds on the fastest computers today.\\n\\n#### Iterative Algorithm (fib2)\\n\\nA more efficient approach is presented by implementing an iterative algorithm (fib2) that builds an array to store previously computed Fibonacci numbers, allowing for the sequential calculation and reuse of these values, drastically reducing the time complexity. This method signifies the transition from exponential to polynomial algorithms, making the computation of larger Fibonacci numbers feasible.\\n\\n### Prefix Sum (fib2 Improvement)\\n\\nThe chapter then suggests an additional improvement for the algorithm, akin to calculating prefix sums in an array, to further optimize the computation, resulting in polynomial time more efficient than even fib2.\\n\\n### Big-O Notation\\n\\nBig-O notation is introduced as a method for characterizing the efficiency of algorithms and describing their time complexities without getting bogged down in the minutiae of hardware-specific steps. It focuses on the algorithm's performance as the input size grows large. Basics of how to use this notation are discussed, emphasizing the significance of understanding the scalability of algorithms.\\n\\n### Summary\\n\\nThe text showcases the significance of algorithms in driving technological and societal advancements, emphasizing the distinction between efficient and inefficient algorithms using the Fibonacci sequence as a guiding example. It highlights the exponential slowing of naive recursive solutions and the political breakthroughs of iterative and optimized approaches, illustrating the impact\",\n",
      "        \"role\": \"assistant\",\n",
      "        \"tool_calls\": null\n",
      "      }\n",
      "    }\n",
      "  ],\n",
      "  \"created\": 1721514874,\n",
      "  \"id\": \"chatcmpl-dc4c7438b4d243138697fc78330c7561\",\n",
      "  \"model\": \"qwen2-7b-instruct\",\n",
      "  \"object\": \"chat.completion\",\n",
      "  \"usage\": {\n",
      "    \"completion_tokens\": 512,\n",
      "    \"prompt_tokens\": 5156,\n",
      "    \"total_tokens\": 5668\n",
      "  }\n",
      "}\n"
     ]
    },
    {
     "ename": "JSONDecodeError",
     "evalue": "Expecting property name enclosed in double quotes: line 1 column 2 (char 1)",
     "output_type": "error",
     "traceback": [
      "\u001b[0;31m---------------------------------------------------------------------------\u001b[0m",
      "\u001b[0;31mJSONDecodeError\u001b[0m                           Traceback (most recent call last)",
      "Cell \u001b[0;32mIn[68], line 16\u001b[0m\n\u001b[1;32m     14\u001b[0m \u001b[38;5;28mprint\u001b[39m(data)\n\u001b[1;32m     15\u001b[0m \u001b[38;5;28;01mfor\u001b[39;00m json_string \u001b[38;5;129;01min\u001b[39;00m data:\n\u001b[0;32m---> 16\u001b[0m     data1 \u001b[38;5;241m=\u001b[39m \u001b[43mjson\u001b[49m\u001b[38;5;241;43m.\u001b[39;49m\u001b[43mloads\u001b[49m\u001b[43m(\u001b[49m\u001b[43mjson_string\u001b[49m\u001b[43m)\u001b[49m\n\u001b[1;32m     17\u001b[0m     content \u001b[38;5;241m=\u001b[39m data1[\u001b[38;5;124m'\u001b[39m\u001b[38;5;124mchoices\u001b[39m\u001b[38;5;124m'\u001b[39m][\u001b[38;5;241m0\u001b[39m][\u001b[38;5;124m'\u001b[39m\u001b[38;5;124mmessage\u001b[39m\u001b[38;5;124m'\u001b[39m][\u001b[38;5;124m'\u001b[39m\u001b[38;5;124mcontent\u001b[39m\u001b[38;5;124m'\u001b[39m]\n\u001b[1;32m     18\u001b[0m     \u001b[38;5;28mprint\u001b[39m(content)\n",
      "File \u001b[0;32m/Library/Developer/CommandLineTools/Library/Frameworks/Python3.framework/Versions/3.9/lib/python3.9/json/__init__.py:346\u001b[0m, in \u001b[0;36mloads\u001b[0;34m(s, cls, object_hook, parse_float, parse_int, parse_constant, object_pairs_hook, **kw)\u001b[0m\n\u001b[1;32m    341\u001b[0m     s \u001b[38;5;241m=\u001b[39m s\u001b[38;5;241m.\u001b[39mdecode(detect_encoding(s), \u001b[38;5;124m'\u001b[39m\u001b[38;5;124msurrogatepass\u001b[39m\u001b[38;5;124m'\u001b[39m)\n\u001b[1;32m    343\u001b[0m \u001b[38;5;28;01mif\u001b[39;00m (\u001b[38;5;28mcls\u001b[39m \u001b[38;5;129;01mis\u001b[39;00m \u001b[38;5;28;01mNone\u001b[39;00m \u001b[38;5;129;01mand\u001b[39;00m object_hook \u001b[38;5;129;01mis\u001b[39;00m \u001b[38;5;28;01mNone\u001b[39;00m \u001b[38;5;129;01mand\u001b[39;00m\n\u001b[1;32m    344\u001b[0m         parse_int \u001b[38;5;129;01mis\u001b[39;00m \u001b[38;5;28;01mNone\u001b[39;00m \u001b[38;5;129;01mand\u001b[39;00m parse_float \u001b[38;5;129;01mis\u001b[39;00m \u001b[38;5;28;01mNone\u001b[39;00m \u001b[38;5;129;01mand\u001b[39;00m\n\u001b[1;32m    345\u001b[0m         parse_constant \u001b[38;5;129;01mis\u001b[39;00m \u001b[38;5;28;01mNone\u001b[39;00m \u001b[38;5;129;01mand\u001b[39;00m object_pairs_hook \u001b[38;5;129;01mis\u001b[39;00m \u001b[38;5;28;01mNone\u001b[39;00m \u001b[38;5;129;01mand\u001b[39;00m \u001b[38;5;129;01mnot\u001b[39;00m kw):\n\u001b[0;32m--> 346\u001b[0m     \u001b[38;5;28;01mreturn\u001b[39;00m \u001b[43m_default_decoder\u001b[49m\u001b[38;5;241;43m.\u001b[39;49m\u001b[43mdecode\u001b[49m\u001b[43m(\u001b[49m\u001b[43ms\u001b[49m\u001b[43m)\u001b[49m\n\u001b[1;32m    347\u001b[0m \u001b[38;5;28;01mif\u001b[39;00m \u001b[38;5;28mcls\u001b[39m \u001b[38;5;129;01mis\u001b[39;00m \u001b[38;5;28;01mNone\u001b[39;00m:\n\u001b[1;32m    348\u001b[0m     \u001b[38;5;28mcls\u001b[39m \u001b[38;5;241m=\u001b[39m JSONDecoder\n",
      "File \u001b[0;32m/Library/Developer/CommandLineTools/Library/Frameworks/Python3.framework/Versions/3.9/lib/python3.9/json/decoder.py:337\u001b[0m, in \u001b[0;36mJSONDecoder.decode\u001b[0;34m(self, s, _w)\u001b[0m\n\u001b[1;32m    332\u001b[0m \u001b[38;5;28;01mdef\u001b[39;00m \u001b[38;5;21mdecode\u001b[39m(\u001b[38;5;28mself\u001b[39m, s, _w\u001b[38;5;241m=\u001b[39mWHITESPACE\u001b[38;5;241m.\u001b[39mmatch):\n\u001b[1;32m    333\u001b[0m \u001b[38;5;250m    \u001b[39m\u001b[38;5;124;03m\"\"\"Return the Python representation of ``s`` (a ``str`` instance\u001b[39;00m\n\u001b[1;32m    334\u001b[0m \u001b[38;5;124;03m    containing a JSON document).\u001b[39;00m\n\u001b[1;32m    335\u001b[0m \n\u001b[1;32m    336\u001b[0m \u001b[38;5;124;03m    \"\"\"\u001b[39;00m\n\u001b[0;32m--> 337\u001b[0m     obj, end \u001b[38;5;241m=\u001b[39m \u001b[38;5;28;43mself\u001b[39;49m\u001b[38;5;241;43m.\u001b[39;49m\u001b[43mraw_decode\u001b[49m\u001b[43m(\u001b[49m\u001b[43ms\u001b[49m\u001b[43m,\u001b[49m\u001b[43m \u001b[49m\u001b[43midx\u001b[49m\u001b[38;5;241;43m=\u001b[39;49m\u001b[43m_w\u001b[49m\u001b[43m(\u001b[49m\u001b[43ms\u001b[49m\u001b[43m,\u001b[49m\u001b[43m \u001b[49m\u001b[38;5;241;43m0\u001b[39;49m\u001b[43m)\u001b[49m\u001b[38;5;241;43m.\u001b[39;49m\u001b[43mend\u001b[49m\u001b[43m(\u001b[49m\u001b[43m)\u001b[49m\u001b[43m)\u001b[49m\n\u001b[1;32m    338\u001b[0m     end \u001b[38;5;241m=\u001b[39m _w(s, end)\u001b[38;5;241m.\u001b[39mend()\n\u001b[1;32m    339\u001b[0m     \u001b[38;5;28;01mif\u001b[39;00m end \u001b[38;5;241m!=\u001b[39m \u001b[38;5;28mlen\u001b[39m(s):\n",
      "File \u001b[0;32m/Library/Developer/CommandLineTools/Library/Frameworks/Python3.framework/Versions/3.9/lib/python3.9/json/decoder.py:353\u001b[0m, in \u001b[0;36mJSONDecoder.raw_decode\u001b[0;34m(self, s, idx)\u001b[0m\n\u001b[1;32m    344\u001b[0m \u001b[38;5;250m\u001b[39m\u001b[38;5;124;03m\"\"\"Decode a JSON document from ``s`` (a ``str`` beginning with\u001b[39;00m\n\u001b[1;32m    345\u001b[0m \u001b[38;5;124;03ma JSON document) and return a 2-tuple of the Python\u001b[39;00m\n\u001b[1;32m    346\u001b[0m \u001b[38;5;124;03mrepresentation and the index in ``s`` where the document ended.\u001b[39;00m\n\u001b[0;32m   (...)\u001b[0m\n\u001b[1;32m    350\u001b[0m \n\u001b[1;32m    351\u001b[0m \u001b[38;5;124;03m\"\"\"\u001b[39;00m\n\u001b[1;32m    352\u001b[0m \u001b[38;5;28;01mtry\u001b[39;00m:\n\u001b[0;32m--> 353\u001b[0m     obj, end \u001b[38;5;241m=\u001b[39m \u001b[38;5;28;43mself\u001b[39;49m\u001b[38;5;241;43m.\u001b[39;49m\u001b[43mscan_once\u001b[49m\u001b[43m(\u001b[49m\u001b[43ms\u001b[49m\u001b[43m,\u001b[49m\u001b[43m \u001b[49m\u001b[43midx\u001b[49m\u001b[43m)\u001b[49m\n\u001b[1;32m    354\u001b[0m \u001b[38;5;28;01mexcept\u001b[39;00m \u001b[38;5;167;01mStopIteration\u001b[39;00m \u001b[38;5;28;01mas\u001b[39;00m err:\n\u001b[1;32m    355\u001b[0m     \u001b[38;5;28;01mraise\u001b[39;00m JSONDecodeError(\u001b[38;5;124m\"\u001b[39m\u001b[38;5;124mExpecting value\u001b[39m\u001b[38;5;124m\"\u001b[39m, s, err\u001b[38;5;241m.\u001b[39mvalue) \u001b[38;5;28;01mfrom\u001b[39;00m \u001b[38;5;28;01mNone\u001b[39;00m\n",
      "\u001b[0;31mJSONDecodeError\u001b[0m: Expecting property name enclosed in double quotes: line 1 column 2 (char 1)"
     ]
    }
   ],
   "source": [
    "# data_json = json.dumps(data, indent=2)\n",
    "\n",
    "# # Print the JSON data\n",
    "# print(data_json)\n",
    "\n",
    "# # Parse the JSON string\n",
    "# data = json.loads(data)\n",
    "\n",
    "# # Extract the \"content\" key\n",
    "# content = data['choices'][0]['message']['content']\n",
    "\n",
    "# # Print the extracted content\n",
    "# print(content)\n",
    "print(data)\n",
    "for json_string in data:\n",
    "    data1 = json.loads(json_string)\n",
    "    content = data1['choices'][0]['message']['content']\n",
    "    print(content)"
   ]
  }
 ],
 "metadata": {
  "kernelspec": {
   "display_name": "Python 3",
   "language": "python",
   "name": "python3"
  },
  "language_info": {
   "codemirror_mode": {
    "name": "ipython",
    "version": 3
   },
   "file_extension": ".py",
   "mimetype": "text/x-python",
   "name": "python",
   "nbconvert_exporter": "python",
   "pygments_lexer": "ipython3",
   "version": "3.9.6"
  }
 },
 "nbformat": 4,
 "nbformat_minor": 2
}
