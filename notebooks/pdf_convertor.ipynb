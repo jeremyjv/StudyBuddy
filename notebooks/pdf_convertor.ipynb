{
 "cells": [
  {
   "cell_type": "code",
   "execution_count": 3,
   "metadata": {},
   "outputs": [
    {
     "name": "stdout",
     "output_type": "stream",
     "text": [
      "Defaulting to user installation because normal site-packages is not writeable\n",
      "Requirement already satisfied: PyMuPDF in /Users/vxhan/Library/Python/3.9/lib/python/site-packages (1.24.7)\n",
      "Requirement already satisfied: PyMuPDFb==1.24.6 in /Users/vxhan/Library/Python/3.9/lib/python/site-packages (from PyMuPDF) (1.24.6)\n",
      "\u001b[33mWARNING: You are using pip version 21.2.4; however, version 24.1.2 is available.\n",
      "You should consider upgrading via the '/Library/Developer/CommandLineTools/usr/bin/python3 -m pip install --upgrade pip' command.\u001b[0m\n"
     ]
    }
   ],
   "source": [
    "! pip3 install PyMuPDF"
   ]
  },
  {
   "cell_type": "code",
   "execution_count": 36,
   "metadata": {},
   "outputs": [],
   "source": [
    "import fitz  # PyMuPDF\n",
    "import requests\n",
    "import os, json\n",
    "pdf_url = \"https://people.eecs.berkeley.edu/~vazirani/algorithms/chap2.pdf\"\n",
    "pdf_filename = \"chap2.pdf\"\n",
    "response = requests.get(pdf_url)\n",
    "if response.status_code == 200:\n",
    "    with open(pdf_filename, 'wb') as pdf_file:\n",
    "        pdf_file.write(response.content)\n",
    "else:\n",
    "    print(\"Failed to download the PDF file\")\n",
    "    exit()\n",
    "\n",
    "def extract_text_from_pdf(pdf_path):\n",
    "    text = \"\"\n",
    "    with fitz.open(pdf_path) as doc:\n",
    "        for page in doc:\n",
    "            text += page.get_text()\n",
    "    return text\n",
    "\n",
    "pdf_text = extract_text_from_pdf(pdf_filename)"
   ]
  },
  {
   "cell_type": "code",
   "execution_count": 37,
   "metadata": {},
   "outputs": [],
   "source": [
    "pdf_json = {\n",
    "    \"content\": pdf_text\n",
    "}\n"
   ]
  },
  {
   "cell_type": "code",
   "execution_count": 38,
   "metadata": {},
   "outputs": [],
   "source": [
    "json_filename = \"chap2.json\"\n",
    "with open(json_filename, 'w') as json_file:\n",
    "    json.dump(pdf_json, json_file, indent=4)\n"
   ]
  },
  {
   "cell_type": "code",
   "execution_count": 39,
   "metadata": {},
   "outputs": [
    {
     "name": "stdout",
     "output_type": "stream",
     "text": [
      "PDF content has been converted to JSON and saved to chap2.json\n"
     ]
    }
   ],
   "source": [
    "os.remove(pdf_filename)\n",
    "\n",
    "print(f\"PDF content has been converted to JSON and saved to {json_filename}\")\n"
   ]
  },
  {
   "cell_type": "code",
   "execution_count": 33,
   "metadata": {},
   "outputs": [],
   "source": [
    "with open('chap2.json', 'r') as file:\n",
    "    data = json.load(file)"
   ]
  },
  {
   "cell_type": "code",
   "execution_count": 41,
   "metadata": {},
   "outputs": [
    {
     "data": {
      "text/plain": [
       "1"
      ]
     },
     "execution_count": 41,
     "metadata": {},
     "output_type": "execute_result"
    }
   ],
   "source": [
    "def split_text(text, max_length=21000):\n",
    "    sentences = text.split('.')\n",
    "    chunks = []\n",
    "    chunk = \"\"\n",
    "    for sentence in sentences:\n",
    "        if len(chunk) + len(sentence) <= max_length:\n",
    "            chunk += sentence + '.'\n",
    "        else:\n",
    "            chunks.append(chunk)\n",
    "            chunk = sentence + '.'\n",
    "    chunks.append(chunk)  # add the last chunk\n",
    "    return chunks\n",
    "\n",
    "chunks = split_text(data['content'])\n",
    "len(chunks)"
   ]
  },
  {
   "cell_type": "code",
   "execution_count": 31,
   "metadata": {},
   "outputs": [],
   "source": [
    "import os\n",
    "import json\n",
    "\n",
    "from octoai.client import OctoAI\n",
    "from octoai.text_gen import ChatMessage\n",
    "\n",
    "\n",
    "# Get the OctoAI API token from the environment\n",
    "OCTOAI_API_TOKEN = os.getenv(\"OCTOAI_API_TOKEN\")\n",
    "if not OCTOAI_API_TOKEN:\n",
    "    raise ValueError(\"No OCTOAI_API_TOKEN found in environment variables\")\n",
    "\n",
    "# Initialize OctoAI client\n",
    "client = OctoAI(api_key=OCTOAI_API_TOKEN)\n",
    "\n",
    "\n",
    "def get_answer_from_chunk(chunk,question):\n",
    "    completion = client.text_gen.create_chat_completion(\n",
    "    model=\"qwen2-7b-instruct\",\n",
    "    messages=[\n",
    "        ChatMessage(\n",
    "            role=\"system\",\n",
    "            content=\"You are a professor understand the content of the PDF and explain it to a student.\",\n",
    "        ),\n",
    "        ChatMessage(role=\"system\", content=question),\n",
    "        ChatMessage(role=\"user\", content= chunk),\n",
    "    ],\n",
    "    max_tokens=512,\n",
    "    )\n",
    "\n",
    "    return json.dumps(completion.dict(), indent=2)\n",
    "\n",
    "question = \"What is the content of the PDF?\"\n",
    "\n"
   ]
  },
  {
   "cell_type": "code",
   "execution_count": 32,
   "metadata": {},
   "outputs": [
    {
     "name": "stdout",
     "output_type": "stream",
     "text": [
      "0\n",
      "------------------------------------------------------------------------------------------------\n",
      "{\n",
      "  \"choices\": [\n",
      "    {\n",
      "      \"finish_reason\": \"stop\",\n",
      "      \"index\": 0,\n",
      "      \"logprobs\": null,\n",
      "      \"message\": {\n",
      "        \"content\": \"The content:\\n\\nThis text is an introduction to algorithms, a very specific aspect focusing on the efficiency and importance of algorithms in computing as a method to negate the problems that the pace of advances in microelectronics and chip design could not alone overcome. The rapid advancement in semiconductor technology (tcMoore) led to powerful machines but didn't address complexities and challenges.\\n\\nThe text suggests that the management of data and computation, which revolves around algorithms, is now crucial in driving computerics. It refers to Gutenberg and his invention of movable type as a revolutionary step though, according to some, the algorithmic aspect was at least equally pivotal in bringing scientific and technological revolution and industrial transformation.\\n\\nIt employs the Fibonacci sequence as an example to illustrate how an overly naive method (fib1) to compute Fibonacci numbers incorrectly leads to absurdly complex operations; recursion's inherent passivity exacerbating the problem. Provides specific examples showing that fib1 time complexity is exponential, difficult to handle for substantial computations. Switches to an optimal approach (fib2) to decrease the complexity to polynomial.\\n\\nThe book also discusses big-O notations and how algorithm analysis requires careful estimation where the quantification must be articulated in terms appropriate to the problem's complexity (involving computer science elementary operations). The notion highlights the vast difference in computational time between algorithms with different complexities.  \\n\\nBig-O notation simplifies the depiction of an algorithm's running time, resulting in statements that consider only the highest growth terms. The book gives an in-depth explanation of the big-O, big-\\u03a9, and big-\\u0398 notation's definitions and the importance in computational problems.\\n\\nExample exercises present a problem of determining the big-Oh or big-\\u03a9 complexities of different functions. \\n\\nUnderstanding algorithms and processes becomes practically impossible without equating functions that differ by multiplicative constants, as such disparities appear trivial in comparison to more significant variances in growth rates.\\n\\nThe text also touches on matrix computations for computing Fibonacci numbers, outlining methods to significantly reduce computation complexity. It hints at the potential for improving multiplication operation speed, critical for the feasibility of the more efficient algorithms discussed.\\n\\nIt finally hypes an elegant formula for computing the nth Fibonacci number, albeit a challenge in practical implementation due to the irrational numbers involved.\\n\\nThe discussion in the text emphasizes the fundamental importance of efficient algorithms in managing expedient technological progress, resolving issues that hardware advancements alone haven't addressed.\",\n",
      "        \"role\": \"assistant\",\n",
      "        \"tool_calls\": null\n",
      "      }\n",
      "    }\n",
      "  ],\n",
      "  \"created\": 1721517401,\n",
      "  \"id\": \"chatcmpl-516bff1876154d14a08c4e021d905d41\",\n",
      "  \"model\": \"qwen2-7b-instruct\",\n",
      "  \"object\": \"chat.completion\",\n",
      "  \"usage\": {\n",
      "    \"completion_tokens\": 474,\n",
      "    \"prompt_tokens\": 5156,\n",
      "    \"total_tokens\": 5630\n",
      "  }\n",
      "}\n"
     ]
    }
   ],
   "source": [
    "i = 0\n",
    "data = []\n",
    "for chunk in chunks:\n",
    "    answer = get_answer_from_chunk(chunk, question)\n",
    "    data.append(answer)\n",
    "    print(i)\n",
    "    i += 1\n",
    "    print(\"------------------------------------------------------------------------------------------------\")\n",
    "    print(answer)\n",
    "    \n",
    "    \n",
    "\n"
   ]
  },
  {
   "cell_type": "code",
   "execution_count": 10,
   "metadata": {},
   "outputs": [],
   "source": [
    "# # data_json = json.dumps(data, indent=2)\n",
    "\n",
    "# # # Print the JSON data\n",
    "# # print(data_json)\n",
    "\n",
    "# # # Parse the JSON string\n",
    "# # data = json.loads(data)\n",
    "\n",
    "# # # Extract the \"content\" key\n",
    "# # content = data['choices'][0]['message']['content']\n",
    "\n",
    "# # # Print the extracted content\n",
    "# # print(content)\n",
    "# print(data)\n",
    "# for json_string in data:\n",
    "#     data1 = json.loads(json_string)\n",
    "#     # content = data1['choices'][0]['message']['content']\n",
    "#     print(content)"
   ]
  },
  {
   "cell_type": "code",
   "execution_count": 16,
   "metadata": {},
   "outputs": [
    {
     "name": "stdout",
     "output_type": "stream",
     "text": [
      "The document you've provided is an introduction and an overview of the power of algorithms in the context of computer science, specifically in relation to the development and impact of the positional decimal system. It covers several key points:\n",
      "\n",
      "1. The two main technological underpinnings that have driven the computer revolution: hardware advancements (like fast and increasingly powerful chip design), and efficient algorithms.\n",
      "   \n",
      "2. The importance of the advent of the decimal positional system and its algorithms, which enabled science, technology, industry, and commerce to flourish. Al Khwarizmi’s work, written in Arabic in the 9th century, was crucial in spreading these ideas from Asia to Europe.\n",
      "\n",
      "3. The Italian mathematician Fibonacci's role in popularizing the use of the decimal system and his famous Fibonacci sequence, discussed not only for its numerical beauty but also for its computational applications and its \"favorite\" role in computer science.\n",
      "\n",
      "4. The inefficiency of a naive implementation of the Fibonacci sequence calculation, specifically the exponential growth of time complexity in recursive functions like fib1, leading to impractical computation times for large inputs.\n",
      "\n",
      "5. The introduction of a subsequent algorithm, fib2, which uses dynamic programming or memoization to avoid redundant calculations, improving the time complexity to polynomial. The algorithm's efficiency allows for practical computation of large Fibonacci numbers.\n",
      "\n",
      "6. Big-O notation, a simplifying notation used to describe the performance of algorithms as the input size grows, shifting focus away from lower-order terms and constants that become insignificant in the long run.\n",
      "\n",
      "7. Correctly applying the big-O notation to distinguish between algorithms based on their growth rates, using examples to highlight the superiority of one algorithm over another.\n",
      "\n",
      "8. Insightful, machine-independent explanations for analyzing the algorithms, which help avoid the buffet of architectural details that can obfuscate understanding.\n",
      "\n",
      "9. An exercise set designed to reinforce the concepts of time complexity, big-O notation, and the polynomial growth over the exponential growth. It targets understanding the O notation, comparisons between different algorithms' efficiency, and insightful analyses of time complexities in several example scenarios.\n",
      "\n",
      "10. An exploration of a possibly faster way to compute Fibonacci numbers through matrix exponentiation (fib3), whether it would beat current algorithms depending on the efficiency of multiplication for large integers. This raises a practical question, indicating that improvements continue in computation techniques.\n",
      "\n",
      "The document lays the groundwork for delving into the topic of algorithms in depth, showcasing their essential role in managing computational tasks efficiently and effectively. It sets the stage for students to understand that while hardware innovations are critical, strategic algorithm\n"
     ]
    }
   ],
   "source": [
    "def extract_contents(json_strings):\n",
    "    contents = []\n",
    "    for json_string in json_strings:\n",
    "        # Parse the JSON string\n",
    "        data = json.loads(json_string)\n",
    "        # Extract the content\n",
    "        content = data['choices'][0]['message']['content']\n",
    "        contents.append(content)\n",
    "    return contents\n",
    "\n",
    "# Extract contents\n",
    "extracted_contents = extract_contents(data)\n",
    "final_content = \"\"\n",
    "# Print results\n",
    "for content in extracted_contents:\n",
    "    #print(content)\n",
    "    final_content += content"
   ]
  },
  {
   "cell_type": "code",
   "execution_count": 25,
   "metadata": {},
   "outputs": [
    {
     "name": "stdout",
     "output_type": "stream",
     "text": [
      "{\n",
      "  \"choices\": [\n",
      "    {\n",
      "      \"finish_reason\": \"length\",\n",
      "      \"index\": 0,\n",
      "      \"logprobs\": null,\n",
      "      \"message\": {\n",
      "        \"content\": \"The PDF you've described is a foundational document meant to introduce students to the critical role of algorithms in modern technology, centering on the evolution of the positional decimal system and its broader influence across scientific and commercial fields. Let's dive deeper into each key point laid out for a comprehensive understanding:\\n\\n1. **The Computer Revolution**: The document emphasizes the dual importance of hardware advancements and algorithms in driving innovation. It illustrates that advancements in hardware, particularly in the compactness and speed of chip design, enable remarkable computational capabilities. However, alongside hardware, algorithms are crucial for managing tasks efficiently, directing how data and instructions are processed to achieve optimal results.\\n\\n2. **The Positional Decimal System**: This system, championed by mathematician Al Khwarizmi in the 9th century and further popularized by Fibonacci, is lauded for establishing a common ground for mathematical operations across various cultures. Understanding this system is foundational to grasping the concept of binary arithmetic, essential in computing; it's the binary system\\u2019s anachronistic predecessor that efficiently represented numbers using configurable symbols.\\n\\n3. **The Fibonacci Sequence**: This sequence, extending the natural numbers into a recursive pattern where each number is the sum of the two preceding ones, is not only a mathematical curiosity with numerical beauty but also a practical tool for studying computational complexity and showcasing the power of efficient algorithms. Fibonacci\\u2019s legacy underscores the application of algorithms in enhancing understanding of mathematical concepts.\\n\\n4. **Exponential vs. Polynomial Growth**: The document calls attention to the inefficiency of naive, recursive algorithms like `fib1` in calculating the Fibonacci sequence, which results in exponential growth. The contrast is highlighted against an optimized algorithm, `fib2`, which utilizes dynamic programming (or memoization) to store and reuse previously calculated values, significantly accelerating computation and reducing time complexity from exponential to polynomial, making practical large-scaler computations feasible.\\n\\n5. **Big-O Notation**: Often hailed as a cornerstone in algorithm analysis, big-O notation is introduced as a way to describe the scalability of algorithms, focusing on the upper bound of time complexity (and function space, but we're primarily discussing computational time here). The notation is essential for professional-level discussion with industry peers, as it provides a standardized language that abstracts away from constant-time operations or lower-order terms, which become negligible at high input sizes.\\n\\n6. **Case Studies on Algorithm Efficiency**: The document utilizes cases like Fibonacci number calculation to explore the effectiveness of dynamic programming compared to basic recursive implementations. Moreover, it discusses potential improvements like matrix exponentiation (`fib3\",\n",
      "        \"role\": \"assistant\",\n",
      "        \"tool_calls\": null\n",
      "      }\n",
      "    }\n",
      "  ],\n",
      "  \"created\": 1721515819,\n",
      "  \"id\": \"chatcmpl-d52f95571914496e88620918829688b5\",\n",
      "  \"model\": \"qwen2-7b-instruct\",\n",
      "  \"object\": \"chat.completion\",\n",
      "  \"usage\": {\n",
      "    \"completion_tokens\": 512,\n",
      "    \"prompt_tokens\": 555,\n",
      "    \"total_tokens\": 1067\n",
      "  }\n",
      "}\n"
     ]
    }
   ],
   "source": [
    "answer_to_output = get_answer_from_chunk(final_content, question)\n",
    "print(answer_to_output)\n"
   ]
  },
  {
   "cell_type": "code",
   "execution_count": 26,
   "metadata": {},
   "outputs": [
    {
     "name": "stdout",
     "output_type": "stream",
     "text": [
      "The PDF you've described is a foundational document meant to introduce students to the critical role of algorithms in modern technology, centering on the evolution of the positional decimal system and its broader influence across scientific and commercial fields. Let's dive deeper into each key point laid out for a comprehensive understanding:\\n\\n1. **The Computer Revolution**: The document emphasizes the dual importance of hardware advancements and algorithms in driving innovation. It illustrates that advancements in hardware, particularly in the compactness and speed of chip design, enable remarkable computational capabilities. However, alongside hardware, algorithms are crucial for managing tasks efficiently, directing how data and instructions are processed to achieve optimal results.\\n\\n2. **The Positional Decimal System**: This system, championed by mathematician Al Khwarizmi in the 9th century and further popularized by Fibonacci, is lauded for establishing a common ground for mathematical operations across various cultures. Understanding this system is foundational to grasping the concept of binary arithmetic, essential in computing; it's the binary system\\u2019s anachronistic predecessor that efficiently represented numbers using configurable symbols.\\n\\n3. **The Fibonacci Sequence**: This sequence, extending the natural numbers into a recursive pattern where each number is the sum of the two preceding ones, is not only a mathematical curiosity with numerical beauty but also a practical tool for studying computational complexity and showcasing the power of efficient algorithms. Fibonacci\\u2019s legacy underscores the application of algorithms in enhancing understanding of mathematical concepts.\\n\\n4. **Exponential vs. Polynomial Growth**: The document calls attention to the inefficiency of naive, recursive algorithms like `fib1` in calculating the Fibonacci sequence, which results in exponential growth. The contrast is highlighted against an optimized algorithm, `fib2`, which utilizes dynamic programming (or memoization) to store and reuse previously calculated values, significantly accelerating computation and reducing time complexity from exponential to polynomial, making practical large-scaler computations feasible.\\n\\n5. **Big-O Notation**: Often hailed as a cornerstone in algorithm analysis, big-O notation is introduced as a way to describe the scalability of algorithms, focusing on the upper bound of time complexity (and function space, but we're primarily discussing computational time here). The notation is essential for professional-level discussion with industry peers, as it provides a standardized language that abstracts away from constant-time operations or lower-order terms, which become negligible at high input sizes.\\n\\n6. **Case Studies on Algorithm Efficiency**: The document utilizes cases like Fibonacci number calculation to explore the effectiveness of dynamic programming compared to basic recursive implementations. Moreover, it discusses potential improvements like matrix exponentiation (`fib3\n"
     ]
    }
   ],
   "source": [
    "import re\n",
    "pattern = r'\"content\":\\s*\"([^\"]*?)\"'\n",
    "match = re.search(pattern, answer_to_output, re.DOTALL)\n",
    "\n",
    "if match:\n",
    "    content = match.group(1)\n",
    "    print(content)\n",
    "else:\n",
    "    print(\"Content not found\")"
   ]
  }
 ],
 "metadata": {
  "kernelspec": {
   "display_name": "Python 3",
   "language": "python",
   "name": "python3"
  },
  "language_info": {
   "codemirror_mode": {
    "name": "ipython",
    "version": 3
   },
   "file_extension": ".py",
   "mimetype": "text/x-python",
   "name": "python",
   "nbconvert_exporter": "python",
   "pygments_lexer": "ipython3",
   "version": "3.10.12"
  }
 },
 "nbformat": 4,
 "nbformat_minor": 2
}
