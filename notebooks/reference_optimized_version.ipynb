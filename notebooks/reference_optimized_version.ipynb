{
 "cells": [
  {
   "cell_type": "code",
   "execution_count": 3,
   "metadata": {},
   "outputs": [
    {
     "name": "stdout",
     "output_type": "stream",
     "text": [
      "\u001b[33mWARNING: You are using pip version 21.2.4; however, version 24.1.2 is available.\n",
      "You should consider upgrading via the '/Library/Developer/CommandLineTools/usr/bin/python3 -m pip install --upgrade pip' command.\u001b[0m\n"
     ]
    }
   ],
   "source": [
    "! pip3 install -q langchain langchain-text-splitters lxml octoai-sdk langchain-community faiss-cpu tiktoken python-dotenv transformers"
   ]
  },
  {
   "cell_type": "code",
   "execution_count": 5,
   "metadata": {},
   "outputs": [
    {
     "name": "stdout",
     "output_type": "stream",
     "text": [
      "Defaulting to user installation because normal site-packages is not writeable\n",
      "Collecting octoai\n",
      "  Downloading octoai-1.5.0-py3-none-any.whl (107 kB)\n",
      "\u001b[K     |████████████████████████████████| 107 kB 6.2 MB/s eta 0:00:01\n",
      "\u001b[?25hCollecting httpx-sse==0.4.0\n",
      "  Downloading httpx_sse-0.4.0-py3-none-any.whl (7.8 kB)\n",
      "Requirement already satisfied: boto3<2.0.0,>=1.34.75 in /Users/vxhan/Library/Python/3.9/lib/python/site-packages (from octoai) (1.34.145)\n",
      "Requirement already satisfied: pydantic>=1.9.2 in /Users/vxhan/Library/Python/3.9/lib/python/site-packages (from octoai) (2.8.2)\n",
      "Requirement already satisfied: typing_extensions>=4.0.0 in /Users/vxhan/Library/Python/3.9/lib/python/site-packages (from octoai) (4.12.2)\n",
      "Collecting types-boto3<2.0,>=1.0\n",
      "  Downloading types_boto3-1.0.2-py3-none-any.whl (5.1 kB)\n",
      "Requirement already satisfied: httpx>=0.21.2 in /Users/vxhan/Library/Python/3.9/lib/python/site-packages (from octoai) (0.27.0)\n",
      "Requirement already satisfied: s3transfer<0.11.0,>=0.10.0 in /Users/vxhan/Library/Python/3.9/lib/python/site-packages (from boto3<2.0.0,>=1.34.75->octoai) (0.10.2)\n",
      "Requirement already satisfied: botocore<1.35.0,>=1.34.145 in /Users/vxhan/Library/Python/3.9/lib/python/site-packages (from boto3<2.0.0,>=1.34.75->octoai) (1.34.145)\n",
      "Requirement already satisfied: jmespath<2.0.0,>=0.7.1 in /Users/vxhan/Library/Python/3.9/lib/python/site-packages (from boto3<2.0.0,>=1.34.75->octoai) (1.0.1)\n",
      "Requirement already satisfied: urllib3<1.27,>=1.25.4 in /Users/vxhan/Library/Python/3.9/lib/python/site-packages (from botocore<1.35.0,>=1.34.145->boto3<2.0.0,>=1.34.75->octoai) (1.26.19)\n",
      "Requirement already satisfied: python-dateutil<3.0.0,>=2.1 in /Users/vxhan/Library/Python/3.9/lib/python/site-packages (from botocore<1.35.0,>=1.34.145->boto3<2.0.0,>=1.34.75->octoai) (2.9.0.post0)\n",
      "Requirement already satisfied: certifi in /Users/vxhan/Library/Python/3.9/lib/python/site-packages (from httpx>=0.21.2->octoai) (2024.7.4)\n",
      "Requirement already satisfied: httpcore==1.* in /Users/vxhan/Library/Python/3.9/lib/python/site-packages (from httpx>=0.21.2->octoai) (1.0.5)\n",
      "Requirement already satisfied: sniffio in /Users/vxhan/Library/Python/3.9/lib/python/site-packages (from httpx>=0.21.2->octoai) (1.3.1)\n",
      "Requirement already satisfied: anyio in /Users/vxhan/Library/Python/3.9/lib/python/site-packages (from httpx>=0.21.2->octoai) (4.4.0)\n",
      "Requirement already satisfied: idna in /Users/vxhan/Library/Python/3.9/lib/python/site-packages (from httpx>=0.21.2->octoai) (3.7)\n",
      "Requirement already satisfied: h11<0.15,>=0.13 in /Users/vxhan/Library/Python/3.9/lib/python/site-packages (from httpcore==1.*->httpx>=0.21.2->octoai) (0.14.0)\n",
      "Requirement already satisfied: annotated-types>=0.4.0 in /Users/vxhan/Library/Python/3.9/lib/python/site-packages (from pydantic>=1.9.2->octoai) (0.7.0)\n",
      "Requirement already satisfied: pydantic-core==2.20.1 in /Users/vxhan/Library/Python/3.9/lib/python/site-packages (from pydantic>=1.9.2->octoai) (2.20.1)\n",
      "Requirement already satisfied: six>=1.5 in /Library/Developer/CommandLineTools/Library/Frameworks/Python3.framework/Versions/3.9/lib/python3.9/site-packages (from python-dateutil<3.0.0,>=2.1->botocore<1.35.0,>=1.34.145->boto3<2.0.0,>=1.34.75->octoai) (1.15.0)\n",
      "Collecting boto3-stubs\n",
      "  Downloading boto3_stubs-1.34.145-py3-none-any.whl (56 kB)\n",
      "\u001b[K     |████████████████████████████████| 56 kB 12.3 MB/s eta 0:00:01\n",
      "\u001b[?25hRequirement already satisfied: exceptiongroup>=1.0.2 in /Users/vxhan/Library/Python/3.9/lib/python/site-packages (from anyio->httpx>=0.21.2->octoai) (1.2.2)\n",
      "Collecting botocore-stubs\n",
      "  Downloading botocore_stubs-1.34.145-py3-none-any.whl (59 kB)\n",
      "\u001b[K     |████████████████████████████████| 59 kB 6.8 MB/s eta 0:00:01\n",
      "\u001b[?25hCollecting types-s3transfer\n",
      "  Downloading types_s3transfer-0.10.1-py3-none-any.whl (17 kB)\n",
      "Collecting types-awscrt\n",
      "  Downloading types_awscrt-0.21.2-py3-none-any.whl (17 kB)\n",
      "Installing collected packages: types-awscrt, types-s3transfer, botocore-stubs, boto3-stubs, types-boto3, httpx-sse, octoai\n",
      "Successfully installed boto3-stubs-1.34.145 botocore-stubs-1.34.145 httpx-sse-0.4.0 octoai-1.5.0 types-awscrt-0.21.2 types-boto3-1.0.2 types-s3transfer-0.10.1\n",
      "\u001b[33mWARNING: You are using pip version 21.2.4; however, version 24.1.2 is available.\n",
      "You should consider upgrading via the '/Library/Developer/CommandLineTools/usr/bin/python3 -m pip install --upgrade pip' command.\u001b[0m\n"
     ]
    }
   ],
   "source": [
    "! pip3 install octoai"
   ]
  },
  {
   "cell_type": "code",
   "execution_count": 6,
   "metadata": {},
   "outputs": [
    {
     "ename": "ImportError",
     "evalue": "cannot import name 'OctoAI' from 'octoai.client' (/Users/vxhan/Library/Python/3.9/lib/python/site-packages/octoai/client.py)",
     "output_type": "error",
     "traceback": [
      "\u001b[0;31m---------------------------------------------------------------------------\u001b[0m",
      "\u001b[0;31mImportError\u001b[0m                               Traceback (most recent call last)",
      "Cell \u001b[0;32mIn[6], line 3\u001b[0m\n\u001b[1;32m      1\u001b[0m \u001b[38;5;28;01mimport\u001b[39;00m \u001b[38;5;21;01mjson\u001b[39;00m\n\u001b[0;32m----> 3\u001b[0m \u001b[38;5;28;01mfrom\u001b[39;00m \u001b[38;5;21;01moctoai\u001b[39;00m\u001b[38;5;21;01m.\u001b[39;00m\u001b[38;5;21;01mclient\u001b[39;00m \u001b[38;5;28;01mimport\u001b[39;00m OctoAI\n\u001b[1;32m      4\u001b[0m \u001b[38;5;28;01mfrom\u001b[39;00m \u001b[38;5;21;01moctoai\u001b[39;00m\u001b[38;5;21;01m.\u001b[39;00m\u001b[38;5;21;01mtext_gen\u001b[39;00m \u001b[38;5;28;01mimport\u001b[39;00m ChatMessage\n\u001b[1;32m      6\u001b[0m client \u001b[38;5;241m=\u001b[39m OctoAI()\n",
      "\u001b[0;31mImportError\u001b[0m: cannot import name 'OctoAI' from 'octoai.client' (/Users/vxhan/Library/Python/3.9/lib/python/site-packages/octoai/client.py)"
     ]
    }
   ],
   "source": [
    "import json\n",
    "\n",
    "from octoai.client import OctoAI\n",
    "from octoai.text_gen import ChatMessage\n",
    "\n",
    "client = OctoAI()\n",
    "completion = client.text_gen.create_chat_completion(\n",
    "    model=\"meta-llama-3-8b-instruct\",\n",
    "    messages=[\n",
    "        ChatMessage(\n",
    "            role=\"system\",\n",
    "            content=\"Below is an instruction that describes a task. Write a response that appropriately completes the request.\",\n",
    "        ),\n",
    "        ChatMessage(role=\"user\", content=\"Write a blog about Seattle\"),\n",
    "    ],\n",
    "    max_tokens=150,\n",
    ")\n",
    "\n",
    "print(json.dumps(completion.dict(), indent=2))\n"
   ]
  }
 ],
 "metadata": {
  "kernelspec": {
   "display_name": "Python 3",
   "language": "python",
   "name": "python3"
  },
  "language_info": {
   "codemirror_mode": {
    "name": "ipython",
    "version": 3
   },
   "file_extension": ".py",
   "mimetype": "text/x-python",
   "name": "python",
   "nbconvert_exporter": "python",
   "pygments_lexer": "ipython3",
   "version": "3.9.6"
  }
 },
 "nbformat": 4,
 "nbformat_minor": 2
}
